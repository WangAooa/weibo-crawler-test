{
 "cells": [
  {
   "cell_type": "code",
   "execution_count": 63,
   "metadata": {
    "collapsed": true
   },
   "outputs": [],
   "source": [
    "import pandas\n",
    "import pandas as pd\n",
    "import numpy as np\n",
    "from tqdm import tqdm"
   ]
  },
  {
   "cell_type": "code",
   "execution_count": 55,
   "outputs": [],
   "source": [
    "annotated_path = \"./data/overwite_annotated_post.csv\"\n",
    "save_path = \"./data/long_fill_overwrite_annotated_post.csv\"\n",
    "long_weibo_path_1 = \"./data/1.csv\"\n",
    "long_weibo_path_2 = \"./data/2.csv\""
   ],
   "metadata": {
    "collapsed": false
   }
  },
  {
   "cell_type": "code",
   "execution_count": 56,
   "outputs": [
    {
     "data": {
      "text/plain": "              user_id      微博_id  label  \\\n微博_id                                     \nLciBLgh8y  1001456473  LciBLgh8y    2.0   \nLjZFHuo4l  1003816574  LjZFHuo4l    2.0   \nLo4POe9Hj  1003816574  Lo4POe9Hj    2.0   \nLA8hAFfEJ  1004906774  LA8hAFfEJ    NaN   \nLbbu1nWWF  1004906774  Lbbu1nWWF    NaN   \n...               ...        ...    ...   \nMbLzL7WSJ  7797005234  MbLzL7WSJ    2.0   \nMcBqJaoVC  7797020453  McBqJaoVC    2.0   \nMcShODZTE  7797278674  McShODZTE    2.0   \nMcn4PcGSv  7797400308  Mcn4PcGSv    1.0   \nMcjHu05HM  7797454396  McjHu05HM    1.0   \n\n                                                        微博内容 微博位置        发布时间  \\\n微博_id                                                                           \nLciBLgh8y  #TaylorSwift[超话]#想问一下红皇戒指怎么看是美版还是中版的啊，以及开箱需要担心...  NaN  2022-01-24   \nLjZFHuo4l  【顺丰航空为吉林急运近30万支病毒采样管】3月11日凌晨，为快速响应长春市疫情防控指挥部的防...  NaN  2022-03-16   \nLo4POe9Hj  #飞行安全# 4月11日，海口美兰机场负压发热隔离方舱正式投入使用。该方舱可实现进、出港发热...  NaN  2022-04-12   \nLA8hAFfEJ  学学文件总没有错吧。关于印发新型冠状病毒肺炎防控方案（第九版）的通知联防联控机制综发〔202...   山东  2022-06-30   \nLbbu1nWWF  在有人刻意传播病毒的案件发生后，首选鼻咽拭子风险极大，应改为首选唾液或痰液。不戴口罩时呼出的...  NaN  2022-01-17   \n...                                                      ...  ...         ...   \nMbLzL7WSJ  前面的老兄排队核酸也不忘吞云吐雾，老🐱马上自觉地和他保持三米以上距离。毕竟，论危害性，尼古丁...   云南  2022-10-24   \nMcBqJaoVC  我真心希望，自己早一点儿感染新冠病毒。防杠声明：一、我将、也建议其他人遵守防疫规定。二、我不...   北京  2022-10-29   \nMcShODZTE  一些很矛盾的防疫理念：地铁站安检查液体我不反对，关键是每次都拿完别人的水再拿走我的水，有考虑...   江苏  2022-10-31   \nMcn4PcGSv  每天都在期盼自己得现在的新冠获得最好的免疫…然后感染了我自己躲起来一周自愈省得传染给别人麻烦...   江苏  2022-10-28   \nMcjHu05HM                         疫情就像一个大感冒 因为感冒死的人只能说活该 ​​​   江苏  2022-10-28   \n\n           noise_pop  noise_confuse  \n微博_id                                \nLciBLgh8y          0              0  \nLjZFHuo4l          0              0  \nLo4POe9Hj          0              0  \nLA8hAFfEJ          0              0  \nLbbu1nWWF          0              0  \n...              ...            ...  \nMbLzL7WSJ          0              0  \nMcBqJaoVC          0              0  \nMcShODZTE          0              0  \nMcn4PcGSv          0              0  \nMcjHu05HM          0              0  \n\n[48845 rows x 8 columns]",
      "text/html": "<div>\n<style scoped>\n    .dataframe tbody tr th:only-of-type {\n        vertical-align: middle;\n    }\n\n    .dataframe tbody tr th {\n        vertical-align: top;\n    }\n\n    .dataframe thead th {\n        text-align: right;\n    }\n</style>\n<table border=\"1\" class=\"dataframe\">\n  <thead>\n    <tr style=\"text-align: right;\">\n      <th></th>\n      <th>user_id</th>\n      <th>微博_id</th>\n      <th>label</th>\n      <th>微博内容</th>\n      <th>微博位置</th>\n      <th>发布时间</th>\n      <th>noise_pop</th>\n      <th>noise_confuse</th>\n    </tr>\n    <tr>\n      <th>微博_id</th>\n      <th></th>\n      <th></th>\n      <th></th>\n      <th></th>\n      <th></th>\n      <th></th>\n      <th></th>\n      <th></th>\n    </tr>\n  </thead>\n  <tbody>\n    <tr>\n      <th>LciBLgh8y</th>\n      <td>1001456473</td>\n      <td>LciBLgh8y</td>\n      <td>2.0</td>\n      <td>#TaylorSwift[超话]#想问一下红皇戒指怎么看是美版还是中版的啊，以及开箱需要担心...</td>\n      <td>NaN</td>\n      <td>2022-01-24</td>\n      <td>0</td>\n      <td>0</td>\n    </tr>\n    <tr>\n      <th>LjZFHuo4l</th>\n      <td>1003816574</td>\n      <td>LjZFHuo4l</td>\n      <td>2.0</td>\n      <td>【顺丰航空为吉林急运近30万支病毒采样管】3月11日凌晨，为快速响应长春市疫情防控指挥部的防...</td>\n      <td>NaN</td>\n      <td>2022-03-16</td>\n      <td>0</td>\n      <td>0</td>\n    </tr>\n    <tr>\n      <th>Lo4POe9Hj</th>\n      <td>1003816574</td>\n      <td>Lo4POe9Hj</td>\n      <td>2.0</td>\n      <td>#飞行安全# 4月11日，海口美兰机场负压发热隔离方舱正式投入使用。该方舱可实现进、出港发热...</td>\n      <td>NaN</td>\n      <td>2022-04-12</td>\n      <td>0</td>\n      <td>0</td>\n    </tr>\n    <tr>\n      <th>LA8hAFfEJ</th>\n      <td>1004906774</td>\n      <td>LA8hAFfEJ</td>\n      <td>NaN</td>\n      <td>学学文件总没有错吧。关于印发新型冠状病毒肺炎防控方案（第九版）的通知联防联控机制综发〔202...</td>\n      <td>山东</td>\n      <td>2022-06-30</td>\n      <td>0</td>\n      <td>0</td>\n    </tr>\n    <tr>\n      <th>Lbbu1nWWF</th>\n      <td>1004906774</td>\n      <td>Lbbu1nWWF</td>\n      <td>NaN</td>\n      <td>在有人刻意传播病毒的案件发生后，首选鼻咽拭子风险极大，应改为首选唾液或痰液。不戴口罩时呼出的...</td>\n      <td>NaN</td>\n      <td>2022-01-17</td>\n      <td>0</td>\n      <td>0</td>\n    </tr>\n    <tr>\n      <th>...</th>\n      <td>...</td>\n      <td>...</td>\n      <td>...</td>\n      <td>...</td>\n      <td>...</td>\n      <td>...</td>\n      <td>...</td>\n      <td>...</td>\n    </tr>\n    <tr>\n      <th>MbLzL7WSJ</th>\n      <td>7797005234</td>\n      <td>MbLzL7WSJ</td>\n      <td>2.0</td>\n      <td>前面的老兄排队核酸也不忘吞云吐雾，老🐱马上自觉地和他保持三米以上距离。毕竟，论危害性，尼古丁...</td>\n      <td>云南</td>\n      <td>2022-10-24</td>\n      <td>0</td>\n      <td>0</td>\n    </tr>\n    <tr>\n      <th>McBqJaoVC</th>\n      <td>7797020453</td>\n      <td>McBqJaoVC</td>\n      <td>2.0</td>\n      <td>我真心希望，自己早一点儿感染新冠病毒。防杠声明：一、我将、也建议其他人遵守防疫规定。二、我不...</td>\n      <td>北京</td>\n      <td>2022-10-29</td>\n      <td>0</td>\n      <td>0</td>\n    </tr>\n    <tr>\n      <th>McShODZTE</th>\n      <td>7797278674</td>\n      <td>McShODZTE</td>\n      <td>2.0</td>\n      <td>一些很矛盾的防疫理念：地铁站安检查液体我不反对，关键是每次都拿完别人的水再拿走我的水，有考虑...</td>\n      <td>江苏</td>\n      <td>2022-10-31</td>\n      <td>0</td>\n      <td>0</td>\n    </tr>\n    <tr>\n      <th>Mcn4PcGSv</th>\n      <td>7797400308</td>\n      <td>Mcn4PcGSv</td>\n      <td>1.0</td>\n      <td>每天都在期盼自己得现在的新冠获得最好的免疫…然后感染了我自己躲起来一周自愈省得传染给别人麻烦...</td>\n      <td>江苏</td>\n      <td>2022-10-28</td>\n      <td>0</td>\n      <td>0</td>\n    </tr>\n    <tr>\n      <th>McjHu05HM</th>\n      <td>7797454396</td>\n      <td>McjHu05HM</td>\n      <td>1.0</td>\n      <td>疫情就像一个大感冒 因为感冒死的人只能说活该 ​​​</td>\n      <td>江苏</td>\n      <td>2022-10-28</td>\n      <td>0</td>\n      <td>0</td>\n    </tr>\n  </tbody>\n</table>\n<p>48845 rows × 8 columns</p>\n</div>"
     },
     "execution_count": 56,
     "metadata": {},
     "output_type": "execute_result"
    }
   ],
   "source": [
    "#读取annotate文件，设置index为微博_id\n",
    "annotated_data = pd.read_csv(annotated_path)\n",
    "annotated_data.set_index(keys='微博_id', drop=False, inplace=True)\n",
    "annotated_data"
   ],
   "metadata": {
    "collapsed": false
   }
  },
  {
   "cell_type": "code",
   "execution_count": 58,
   "outputs": [],
   "source": [
    "weibo_dict = {}\n",
    "for i in range(len(annotated_data)):\n",
    "    weibo_dict[annotated_data.iloc[i]['微博_id']] = i"
   ],
   "metadata": {
    "collapsed": false
   }
  },
  {
   "cell_type": "code",
   "execution_count": 77,
   "outputs": [
    {
     "data": {
      "text/plain": "1"
     },
     "execution_count": 77,
     "metadata": {},
     "output_type": "execute_result"
    }
   ],
   "source": [
    "'LjZFHuo4l' in weibo_dict\n",
    "weibo_dict['LjZFHuo4l']"
   ],
   "metadata": {
    "collapsed": false
   }
  },
  {
   "cell_type": "code",
   "execution_count": 94,
   "outputs": [],
   "source": [
    "#把长微博对应的行的label设置成None\n",
    "def fill_long_weibo_None(file_path, data):\n",
    "    long_weibo_id = pd.read_csv(file_path, header=None)\n",
    "    # print(long_weibo_id.iloc[522:530])\n",
    "    for weibo_id in tqdm(long_weibo_id[0].values):\n",
    "        if weibo_id in weibo_dict:\n",
    "            # print(weibo_id)\n",
    "            data.loc[weibo_id,'label'] = None"
   ],
   "metadata": {
    "collapsed": false
   }
  },
  {
   "cell_type": "code",
   "execution_count": 95,
   "outputs": [
    {
     "name": "stderr",
     "output_type": "stream",
     "text": [
      "100%|██████████| 1000000/1000000 [00:03<00:00, 258052.40it/s]\n",
      "100%|██████████| 187639/187639 [00:00<00:00, 1218432.83it/s]\n"
     ]
    }
   ],
   "source": [
    "#运行\n",
    "fill_long_weibo_None(long_weibo_path_1, annotated_data)\n",
    "fill_long_weibo_None(long_weibo_path_2, annotated_data)"
   ],
   "metadata": {
    "collapsed": false
   }
  },
  {
   "cell_type": "code",
   "execution_count": 96,
   "outputs": [
    {
     "data": {
      "text/plain": "              user_id      微博_id  label  \\\n微博_id                                     \nLciBLgh8y  1001456473  LciBLgh8y    2.0   \nLjZFHuo4l  1003816574  LjZFHuo4l    NaN   \nLo4POe9Hj  1003816574  Lo4POe9Hj    2.0   \nLA8hAFfEJ  1004906774  LA8hAFfEJ    NaN   \nLbbu1nWWF  1004906774  Lbbu1nWWF    NaN   \n...               ...        ...    ...   \nMbLzL7WSJ  7797005234  MbLzL7WSJ    2.0   \nMcBqJaoVC  7797020453  McBqJaoVC    2.0   \nMcShODZTE  7797278674  McShODZTE    2.0   \nMcn4PcGSv  7797400308  Mcn4PcGSv    NaN   \nMcjHu05HM  7797454396  McjHu05HM    1.0   \n\n                                                        微博内容 微博位置        发布时间  \\\n微博_id                                                                           \nLciBLgh8y  #TaylorSwift[超话]#想问一下红皇戒指怎么看是美版还是中版的啊，以及开箱需要担心...  NaN  2022-01-24   \nLjZFHuo4l  【顺丰航空为吉林急运近30万支病毒采样管】3月11日凌晨，为快速响应长春市疫情防控指挥部的防...  NaN  2022-03-16   \nLo4POe9Hj  #飞行安全# 4月11日，海口美兰机场负压发热隔离方舱正式投入使用。该方舱可实现进、出港发热...  NaN  2022-04-12   \nLA8hAFfEJ  学学文件总没有错吧。关于印发新型冠状病毒肺炎防控方案（第九版）的通知联防联控机制综发〔202...   山东  2022-06-30   \nLbbu1nWWF  在有人刻意传播病毒的案件发生后，首选鼻咽拭子风险极大，应改为首选唾液或痰液。不戴口罩时呼出的...  NaN  2022-01-17   \n...                                                      ...  ...         ...   \nMbLzL7WSJ  前面的老兄排队核酸也不忘吞云吐雾，老🐱马上自觉地和他保持三米以上距离。毕竟，论危害性，尼古丁...   云南  2022-10-24   \nMcBqJaoVC  我真心希望，自己早一点儿感染新冠病毒。防杠声明：一、我将、也建议其他人遵守防疫规定。二、我不...   北京  2022-10-29   \nMcShODZTE  一些很矛盾的防疫理念：地铁站安检查液体我不反对，关键是每次都拿完别人的水再拿走我的水，有考虑...   江苏  2022-10-31   \nMcn4PcGSv  每天都在期盼自己得现在的新冠获得最好的免疫…然后感染了我自己躲起来一周自愈省得传染给别人麻烦...   江苏  2022-10-28   \nMcjHu05HM                         疫情就像一个大感冒 因为感冒死的人只能说活该 ​​​   江苏  2022-10-28   \n\n           noise_pop  noise_confuse  \n微博_id                                \nLciBLgh8y          0              0  \nLjZFHuo4l          0              0  \nLo4POe9Hj          0              0  \nLA8hAFfEJ          0              0  \nLbbu1nWWF          0              0  \n...              ...            ...  \nMbLzL7WSJ          0              0  \nMcBqJaoVC          0              0  \nMcShODZTE          0              0  \nMcn4PcGSv          0              0  \nMcjHu05HM          0              0  \n\n[48845 rows x 8 columns]",
      "text/html": "<div>\n<style scoped>\n    .dataframe tbody tr th:only-of-type {\n        vertical-align: middle;\n    }\n\n    .dataframe tbody tr th {\n        vertical-align: top;\n    }\n\n    .dataframe thead th {\n        text-align: right;\n    }\n</style>\n<table border=\"1\" class=\"dataframe\">\n  <thead>\n    <tr style=\"text-align: right;\">\n      <th></th>\n      <th>user_id</th>\n      <th>微博_id</th>\n      <th>label</th>\n      <th>微博内容</th>\n      <th>微博位置</th>\n      <th>发布时间</th>\n      <th>noise_pop</th>\n      <th>noise_confuse</th>\n    </tr>\n    <tr>\n      <th>微博_id</th>\n      <th></th>\n      <th></th>\n      <th></th>\n      <th></th>\n      <th></th>\n      <th></th>\n      <th></th>\n      <th></th>\n    </tr>\n  </thead>\n  <tbody>\n    <tr>\n      <th>LciBLgh8y</th>\n      <td>1001456473</td>\n      <td>LciBLgh8y</td>\n      <td>2.0</td>\n      <td>#TaylorSwift[超话]#想问一下红皇戒指怎么看是美版还是中版的啊，以及开箱需要担心...</td>\n      <td>NaN</td>\n      <td>2022-01-24</td>\n      <td>0</td>\n      <td>0</td>\n    </tr>\n    <tr>\n      <th>LjZFHuo4l</th>\n      <td>1003816574</td>\n      <td>LjZFHuo4l</td>\n      <td>NaN</td>\n      <td>【顺丰航空为吉林急运近30万支病毒采样管】3月11日凌晨，为快速响应长春市疫情防控指挥部的防...</td>\n      <td>NaN</td>\n      <td>2022-03-16</td>\n      <td>0</td>\n      <td>0</td>\n    </tr>\n    <tr>\n      <th>Lo4POe9Hj</th>\n      <td>1003816574</td>\n      <td>Lo4POe9Hj</td>\n      <td>2.0</td>\n      <td>#飞行安全# 4月11日，海口美兰机场负压发热隔离方舱正式投入使用。该方舱可实现进、出港发热...</td>\n      <td>NaN</td>\n      <td>2022-04-12</td>\n      <td>0</td>\n      <td>0</td>\n    </tr>\n    <tr>\n      <th>LA8hAFfEJ</th>\n      <td>1004906774</td>\n      <td>LA8hAFfEJ</td>\n      <td>NaN</td>\n      <td>学学文件总没有错吧。关于印发新型冠状病毒肺炎防控方案（第九版）的通知联防联控机制综发〔202...</td>\n      <td>山东</td>\n      <td>2022-06-30</td>\n      <td>0</td>\n      <td>0</td>\n    </tr>\n    <tr>\n      <th>Lbbu1nWWF</th>\n      <td>1004906774</td>\n      <td>Lbbu1nWWF</td>\n      <td>NaN</td>\n      <td>在有人刻意传播病毒的案件发生后，首选鼻咽拭子风险极大，应改为首选唾液或痰液。不戴口罩时呼出的...</td>\n      <td>NaN</td>\n      <td>2022-01-17</td>\n      <td>0</td>\n      <td>0</td>\n    </tr>\n    <tr>\n      <th>...</th>\n      <td>...</td>\n      <td>...</td>\n      <td>...</td>\n      <td>...</td>\n      <td>...</td>\n      <td>...</td>\n      <td>...</td>\n      <td>...</td>\n    </tr>\n    <tr>\n      <th>MbLzL7WSJ</th>\n      <td>7797005234</td>\n      <td>MbLzL7WSJ</td>\n      <td>2.0</td>\n      <td>前面的老兄排队核酸也不忘吞云吐雾，老🐱马上自觉地和他保持三米以上距离。毕竟，论危害性，尼古丁...</td>\n      <td>云南</td>\n      <td>2022-10-24</td>\n      <td>0</td>\n      <td>0</td>\n    </tr>\n    <tr>\n      <th>McBqJaoVC</th>\n      <td>7797020453</td>\n      <td>McBqJaoVC</td>\n      <td>2.0</td>\n      <td>我真心希望，自己早一点儿感染新冠病毒。防杠声明：一、我将、也建议其他人遵守防疫规定。二、我不...</td>\n      <td>北京</td>\n      <td>2022-10-29</td>\n      <td>0</td>\n      <td>0</td>\n    </tr>\n    <tr>\n      <th>McShODZTE</th>\n      <td>7797278674</td>\n      <td>McShODZTE</td>\n      <td>2.0</td>\n      <td>一些很矛盾的防疫理念：地铁站安检查液体我不反对，关键是每次都拿完别人的水再拿走我的水，有考虑...</td>\n      <td>江苏</td>\n      <td>2022-10-31</td>\n      <td>0</td>\n      <td>0</td>\n    </tr>\n    <tr>\n      <th>Mcn4PcGSv</th>\n      <td>7797400308</td>\n      <td>Mcn4PcGSv</td>\n      <td>NaN</td>\n      <td>每天都在期盼自己得现在的新冠获得最好的免疫…然后感染了我自己躲起来一周自愈省得传染给别人麻烦...</td>\n      <td>江苏</td>\n      <td>2022-10-28</td>\n      <td>0</td>\n      <td>0</td>\n    </tr>\n    <tr>\n      <th>McjHu05HM</th>\n      <td>7797454396</td>\n      <td>McjHu05HM</td>\n      <td>1.0</td>\n      <td>疫情就像一个大感冒 因为感冒死的人只能说活该 ​​​</td>\n      <td>江苏</td>\n      <td>2022-10-28</td>\n      <td>0</td>\n      <td>0</td>\n    </tr>\n  </tbody>\n</table>\n<p>48845 rows × 8 columns</p>\n</div>"
     },
     "execution_count": 96,
     "metadata": {},
     "output_type": "execute_result"
    }
   ],
   "source": [
    "annotated_data"
   ],
   "metadata": {
    "collapsed": false
   }
  },
  {
   "cell_type": "code",
   "execution_count": 98,
   "outputs": [],
   "source": [
    "annotated_data.to_csv(save_path, index=False)"
   ],
   "metadata": {
    "collapsed": false
   }
  },
  {
   "cell_type": "code",
   "execution_count": null,
   "outputs": [],
   "source": [],
   "metadata": {
    "collapsed": false
   }
  },
  {
   "cell_type": "code",
   "execution_count": null,
   "outputs": [],
   "source": [],
   "metadata": {
    "collapsed": false
   }
  },
  {
   "cell_type": "code",
   "execution_count": 97,
   "outputs": [
    {
     "data": {
      "text/plain": "5955"
     },
     "execution_count": 97,
     "metadata": {},
     "output_type": "execute_result"
    }
   ],
   "source": [
    "#填充后lable的数据从8512下降到5955，一些长微博被替换为none\n",
    "label_count = 0\n",
    "for temp_label in annotated_data['label'].values:\n",
    "    if not np.isnan(temp_label):\n",
    "        label_count+=1\n",
    "label_count"
   ],
   "metadata": {
    "collapsed": false
   }
  }
 ],
 "metadata": {
  "kernelspec": {
   "display_name": "Python 3",
   "language": "python",
   "name": "python3"
  },
  "language_info": {
   "codemirror_mode": {
    "name": "ipython",
    "version": 2
   },
   "file_extension": ".py",
   "mimetype": "text/x-python",
   "name": "python",
   "nbconvert_exporter": "python",
   "pygments_lexer": "ipython2",
   "version": "2.7.6"
  }
 },
 "nbformat": 4,
 "nbformat_minor": 0
}
