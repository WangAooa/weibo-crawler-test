{
 "cells": [
  {
   "cell_type": "code",
   "execution_count": 1,
   "metadata": {},
   "outputs": [],
   "source": [
    "'''\n",
    "Description: 使用pandas拼接多个CSV文件到一个文件\n",
    "'''\n",
    "\n",
    "import pandas as pd\n",
    "import os\n",
    "Folder_Path = 'D:/work/GithubDesktopWork/weibo-crawler/dataset/'          #要拼接的文件夹及其完整路径，注意不要包含中文\n",
    "SaveFile_Path =  'D:/work/GithubDesktopWork/weibo-crawler/dataset/'       #拼接后要保存的文件路径\n",
    "SaveFile_Name = 'all_original_posts.csv'              #合并后要保存的文件名"
   ]
  },
  {
   "cell_type": "code",
   "execution_count": 2,
   "metadata": {},
   "outputs": [],
   "source": [
    "#修改当前工作目录\n",
    "os.chdir(Folder_Path)\n",
    "#将该文件夹下的所有文件名存入一个列表\n",
    "file_list = os.listdir()"
   ]
  },
  {
   "cell_type": "code",
   "execution_count": 3,
   "metadata": {},
   "outputs": [],
   "source": [
    "#读取第一个CSV文件并包含表头\n",
    "df = pd.read_csv(os.path.join(Folder_Path, file_list[0], file_list[0] + '_origin.csv'))   #编码默认UTF-8，若乱码自行更改\n",
    "#将读取的第一个CSV文件写入合并后的文件保存\n",
    "df.to_csv(os.path.join(SaveFile_Path, SaveFile_Name),encoding=\"utf-8\",index=False)\n",
    "#循环遍历列表中各个CSV文件名，并追加到合并后的文件\n",
    "for i in range(1,len(file_list)):\n",
    "    if os.path.exists(os.path.join(Folder_Path, file_list[i], file_list[i] + '_origin.csv')):\n",
    "        pass\n",
    "    else:\n",
    "        # 如果没有user_origin.txt则跳过\n",
    "        continue\n",
    "    df = pd.read_csv(os.path.join(Folder_Path, file_list[i], file_list[i] + '_origin.csv'))\n",
    "    df.to_csv(os.path.join(SaveFile_Path, SaveFile_Name), encoding=\"utf-8-sig\",index=False, header=False, mode='a+')"
   ]
  },
  {
   "cell_type": "code",
   "execution_count": null,
   "metadata": {},
   "outputs": [],
   "source": []
  }
 ],
 "metadata": {
  "kernelspec": {
   "display_name": "Python 3",
   "language": "python",
   "name": "python3"
  },
  "language_info": {
   "codemirror_mode": {
    "name": "ipython",
    "version": 3
   },
   "file_extension": ".py",
   "mimetype": "text/x-python",
   "name": "python",
   "nbconvert_exporter": "python",
   "pygments_lexer": "ipython3",
   "version": "3.8.5"
  }
 },
 "nbformat": 4,
 "nbformat_minor": 4
}
