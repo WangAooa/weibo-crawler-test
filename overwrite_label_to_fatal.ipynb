{
 "cells": [
  {
   "cell_type": "code",
   "execution_count": 55,
   "metadata": {
    "collapsed": true
   },
   "outputs": [],
   "source": [
    "import pandas as pd"
   ]
  },
  {
   "cell_type": "code",
   "execution_count": 56,
   "outputs": [],
   "source": [
    "#把label中已经做过标签的数据覆盖到fatal文件中"
   ],
   "metadata": {
    "collapsed": false
   }
  },
  {
   "cell_type": "code",
   "execution_count": 57,
   "outputs": [],
   "source": [
    "label_path = \"./data/annotated_posts.csv\"\n",
    "fatal_path = \"./data/omicron_fatal_posts.txt\"\n",
    "save_path = \"./data/overwite_annotated_post.csv\""
   ],
   "metadata": {
    "collapsed": false
   }
  },
  {
   "cell_type": "code",
   "execution_count": 58,
   "outputs": [
    {
     "data": {
      "text/plain": "0       LciBLgh8y\n1       LjZFHuo4l\n2       Lo4POe9Hj\n3       M3JULxqjB\n4       Lc8ps3UMu\n          ...    \n8510    MbLzL7WSJ\n8511    McBqJaoVC\n8512    McShODZTE\n8513    Mcn4PcGSv\n8514    McjHu05HM\nName: 微博_id, Length: 8515, dtype: object"
     },
     "execution_count": 58,
     "metadata": {},
     "output_type": "execute_result"
    }
   ],
   "source": [
    "#读取lable的id\n",
    "label_data = pd.read_csv(label_path, index_col=None)\n",
    "label_id = label_data['微博_id']\n",
    "label_id"
   ],
   "metadata": {
    "collapsed": false
   }
  },
  {
   "cell_type": "code",
   "execution_count": 59,
   "outputs": [
    {
     "data": {
      "text/plain": "0       2\n1       2\n2       2\n3       2\n4       0\n       ..\n8510    2\n8511    2\n8512    2\n8513    1\n8514    1\nName: label, Length: 8515, dtype: int64"
     },
     "execution_count": 59,
     "metadata": {},
     "output_type": "execute_result"
    }
   ],
   "source": [
    "#读取label列\n",
    "label_list = label_data['label']\n",
    "label_list"
   ],
   "metadata": {
    "collapsed": false
   }
  },
  {
   "cell_type": "code",
   "execution_count": 60,
   "outputs": [
    {
     "data": {
      "text/plain": "          user_id      微博_id label  \\\n0      1001456473  LciBLgh8y  None   \n1      1003816574  LjZFHuo4l  None   \n2      1003816574  Lo4POe9Hj  None   \n3      1004906774  LA8hAFfEJ  None   \n4      1004906774  Lbbu1nWWF  None   \n...           ...        ...   ...   \n48840  7797005234  MbLzL7WSJ  None   \n48841  7797020453  McBqJaoVC  None   \n48842  7797278674  McShODZTE  None   \n48843  7797400308  Mcn4PcGSv  None   \n48844  7797454396  McjHu05HM  None   \n\n                                                    微博内容 微博位置        发布时间  \\\n0      #TaylorSwift[超话]#想问一下红皇戒指怎么看是美版还是中版的啊，以及开箱需要担心...  NaN  2022-01-24   \n1      【顺丰航空为吉林急运近30万支病毒采样管】3月11日凌晨，为快速响应长春市疫情防控指挥部的防...  NaN  2022-03-16   \n2      #飞行安全# 4月11日，海口美兰机场负压发热隔离方舱正式投入使用。该方舱可实现进、出港发热...  NaN  2022-04-12   \n3      学学文件总没有错吧。关于印发新型冠状病毒肺炎防控方案（第九版）的通知联防联控机制综发〔202...   山东  2022-06-30   \n4      在有人刻意传播病毒的案件发生后，首选鼻咽拭子风险极大，应改为首选唾液或痰液。不戴口罩时呼出的...  NaN  2022-01-17   \n...                                                  ...  ...         ...   \n48840  前面的老兄排队核酸也不忘吞云吐雾，老🐱马上自觉地和他保持三米以上距离。毕竟，论危害性，尼古丁...   云南  2022-10-24   \n48841  我真心希望，自己早一点儿感染新冠病毒。防杠声明：一、我将、也建议其他人遵守防疫规定。二、我不...   北京  2022-10-29   \n48842  一些很矛盾的防疫理念：地铁站安检查液体我不反对，关键是每次都拿完别人的水再拿走我的水，有考虑...   江苏  2022-10-31   \n48843  每天都在期盼自己得现在的新冠获得最好的免疫…然后感染了我自己躲起来一周自愈省得传染给别人麻烦...   江苏  2022-10-28   \n48844                         疫情就像一个大感冒 因为感冒死的人只能说活该 ​​​   江苏  2022-10-28   \n\n       noise_pop  noise_confuse  \n0              0              0  \n1              0              0  \n2              0              0  \n3              0              0  \n4              0              0  \n...          ...            ...  \n48840          0              0  \n48841          0              0  \n48842          0              0  \n48843          0              0  \n48844          0              0  \n\n[48845 rows x 8 columns]",
      "text/html": "<div>\n<style scoped>\n    .dataframe tbody tr th:only-of-type {\n        vertical-align: middle;\n    }\n\n    .dataframe tbody tr th {\n        vertical-align: top;\n    }\n\n    .dataframe thead th {\n        text-align: right;\n    }\n</style>\n<table border=\"1\" class=\"dataframe\">\n  <thead>\n    <tr style=\"text-align: right;\">\n      <th></th>\n      <th>user_id</th>\n      <th>微博_id</th>\n      <th>label</th>\n      <th>微博内容</th>\n      <th>微博位置</th>\n      <th>发布时间</th>\n      <th>noise_pop</th>\n      <th>noise_confuse</th>\n    </tr>\n  </thead>\n  <tbody>\n    <tr>\n      <th>0</th>\n      <td>1001456473</td>\n      <td>LciBLgh8y</td>\n      <td>None</td>\n      <td>#TaylorSwift[超话]#想问一下红皇戒指怎么看是美版还是中版的啊，以及开箱需要担心...</td>\n      <td>NaN</td>\n      <td>2022-01-24</td>\n      <td>0</td>\n      <td>0</td>\n    </tr>\n    <tr>\n      <th>1</th>\n      <td>1003816574</td>\n      <td>LjZFHuo4l</td>\n      <td>None</td>\n      <td>【顺丰航空为吉林急运近30万支病毒采样管】3月11日凌晨，为快速响应长春市疫情防控指挥部的防...</td>\n      <td>NaN</td>\n      <td>2022-03-16</td>\n      <td>0</td>\n      <td>0</td>\n    </tr>\n    <tr>\n      <th>2</th>\n      <td>1003816574</td>\n      <td>Lo4POe9Hj</td>\n      <td>None</td>\n      <td>#飞行安全# 4月11日，海口美兰机场负压发热隔离方舱正式投入使用。该方舱可实现进、出港发热...</td>\n      <td>NaN</td>\n      <td>2022-04-12</td>\n      <td>0</td>\n      <td>0</td>\n    </tr>\n    <tr>\n      <th>3</th>\n      <td>1004906774</td>\n      <td>LA8hAFfEJ</td>\n      <td>None</td>\n      <td>学学文件总没有错吧。关于印发新型冠状病毒肺炎防控方案（第九版）的通知联防联控机制综发〔202...</td>\n      <td>山东</td>\n      <td>2022-06-30</td>\n      <td>0</td>\n      <td>0</td>\n    </tr>\n    <tr>\n      <th>4</th>\n      <td>1004906774</td>\n      <td>Lbbu1nWWF</td>\n      <td>None</td>\n      <td>在有人刻意传播病毒的案件发生后，首选鼻咽拭子风险极大，应改为首选唾液或痰液。不戴口罩时呼出的...</td>\n      <td>NaN</td>\n      <td>2022-01-17</td>\n      <td>0</td>\n      <td>0</td>\n    </tr>\n    <tr>\n      <th>...</th>\n      <td>...</td>\n      <td>...</td>\n      <td>...</td>\n      <td>...</td>\n      <td>...</td>\n      <td>...</td>\n      <td>...</td>\n      <td>...</td>\n    </tr>\n    <tr>\n      <th>48840</th>\n      <td>7797005234</td>\n      <td>MbLzL7WSJ</td>\n      <td>None</td>\n      <td>前面的老兄排队核酸也不忘吞云吐雾，老🐱马上自觉地和他保持三米以上距离。毕竟，论危害性，尼古丁...</td>\n      <td>云南</td>\n      <td>2022-10-24</td>\n      <td>0</td>\n      <td>0</td>\n    </tr>\n    <tr>\n      <th>48841</th>\n      <td>7797020453</td>\n      <td>McBqJaoVC</td>\n      <td>None</td>\n      <td>我真心希望，自己早一点儿感染新冠病毒。防杠声明：一、我将、也建议其他人遵守防疫规定。二、我不...</td>\n      <td>北京</td>\n      <td>2022-10-29</td>\n      <td>0</td>\n      <td>0</td>\n    </tr>\n    <tr>\n      <th>48842</th>\n      <td>7797278674</td>\n      <td>McShODZTE</td>\n      <td>None</td>\n      <td>一些很矛盾的防疫理念：地铁站安检查液体我不反对，关键是每次都拿完别人的水再拿走我的水，有考虑...</td>\n      <td>江苏</td>\n      <td>2022-10-31</td>\n      <td>0</td>\n      <td>0</td>\n    </tr>\n    <tr>\n      <th>48843</th>\n      <td>7797400308</td>\n      <td>Mcn4PcGSv</td>\n      <td>None</td>\n      <td>每天都在期盼自己得现在的新冠获得最好的免疫…然后感染了我自己躲起来一周自愈省得传染给别人麻烦...</td>\n      <td>江苏</td>\n      <td>2022-10-28</td>\n      <td>0</td>\n      <td>0</td>\n    </tr>\n    <tr>\n      <th>48844</th>\n      <td>7797454396</td>\n      <td>McjHu05HM</td>\n      <td>None</td>\n      <td>疫情就像一个大感冒 因为感冒死的人只能说活该 ​​​</td>\n      <td>江苏</td>\n      <td>2022-10-28</td>\n      <td>0</td>\n      <td>0</td>\n    </tr>\n  </tbody>\n</table>\n<p>48845 rows × 8 columns</p>\n</div>"
     },
     "execution_count": 60,
     "metadata": {},
     "output_type": "execute_result"
    }
   ],
   "source": [
    "#读取fatal数据\n",
    "fatal_data = pd.read_csv(fatal_path, delimiter='\\t', index_col=None)\n",
    "fatal_data.insert(loc=2, column='label', value=None)\n",
    "fatal_data"
   ],
   "metadata": {
    "collapsed": false
   }
  },
  {
   "cell_type": "code",
   "execution_count": 61,
   "outputs": [
    {
     "data": {
      "text/plain": "              user_id      微博_id label  \\\n微博_id                                    \nLciBLgh8y  1001456473  LciBLgh8y  None   \nLjZFHuo4l  1003816574  LjZFHuo4l  None   \nLo4POe9Hj  1003816574  Lo4POe9Hj  None   \nLA8hAFfEJ  1004906774  LA8hAFfEJ  None   \nLbbu1nWWF  1004906774  Lbbu1nWWF  None   \n...               ...        ...   ...   \nMbLzL7WSJ  7797005234  MbLzL7WSJ  None   \nMcBqJaoVC  7797020453  McBqJaoVC  None   \nMcShODZTE  7797278674  McShODZTE  None   \nMcn4PcGSv  7797400308  Mcn4PcGSv  None   \nMcjHu05HM  7797454396  McjHu05HM  None   \n\n                                                        微博内容 微博位置        发布时间  \\\n微博_id                                                                           \nLciBLgh8y  #TaylorSwift[超话]#想问一下红皇戒指怎么看是美版还是中版的啊，以及开箱需要担心...  NaN  2022-01-24   \nLjZFHuo4l  【顺丰航空为吉林急运近30万支病毒采样管】3月11日凌晨，为快速响应长春市疫情防控指挥部的防...  NaN  2022-03-16   \nLo4POe9Hj  #飞行安全# 4月11日，海口美兰机场负压发热隔离方舱正式投入使用。该方舱可实现进、出港发热...  NaN  2022-04-12   \nLA8hAFfEJ  学学文件总没有错吧。关于印发新型冠状病毒肺炎防控方案（第九版）的通知联防联控机制综发〔202...   山东  2022-06-30   \nLbbu1nWWF  在有人刻意传播病毒的案件发生后，首选鼻咽拭子风险极大，应改为首选唾液或痰液。不戴口罩时呼出的...  NaN  2022-01-17   \n...                                                      ...  ...         ...   \nMbLzL7WSJ  前面的老兄排队核酸也不忘吞云吐雾，老🐱马上自觉地和他保持三米以上距离。毕竟，论危害性，尼古丁...   云南  2022-10-24   \nMcBqJaoVC  我真心希望，自己早一点儿感染新冠病毒。防杠声明：一、我将、也建议其他人遵守防疫规定。二、我不...   北京  2022-10-29   \nMcShODZTE  一些很矛盾的防疫理念：地铁站安检查液体我不反对，关键是每次都拿完别人的水再拿走我的水，有考虑...   江苏  2022-10-31   \nMcn4PcGSv  每天都在期盼自己得现在的新冠获得最好的免疫…然后感染了我自己躲起来一周自愈省得传染给别人麻烦...   江苏  2022-10-28   \nMcjHu05HM                         疫情就像一个大感冒 因为感冒死的人只能说活该 ​​​   江苏  2022-10-28   \n\n           noise_pop  noise_confuse  \n微博_id                                \nLciBLgh8y          0              0  \nLjZFHuo4l          0              0  \nLo4POe9Hj          0              0  \nLA8hAFfEJ          0              0  \nLbbu1nWWF          0              0  \n...              ...            ...  \nMbLzL7WSJ          0              0  \nMcBqJaoVC          0              0  \nMcShODZTE          0              0  \nMcn4PcGSv          0              0  \nMcjHu05HM          0              0  \n\n[48845 rows x 8 columns]",
      "text/html": "<div>\n<style scoped>\n    .dataframe tbody tr th:only-of-type {\n        vertical-align: middle;\n    }\n\n    .dataframe tbody tr th {\n        vertical-align: top;\n    }\n\n    .dataframe thead th {\n        text-align: right;\n    }\n</style>\n<table border=\"1\" class=\"dataframe\">\n  <thead>\n    <tr style=\"text-align: right;\">\n      <th></th>\n      <th>user_id</th>\n      <th>微博_id</th>\n      <th>label</th>\n      <th>微博内容</th>\n      <th>微博位置</th>\n      <th>发布时间</th>\n      <th>noise_pop</th>\n      <th>noise_confuse</th>\n    </tr>\n    <tr>\n      <th>微博_id</th>\n      <th></th>\n      <th></th>\n      <th></th>\n      <th></th>\n      <th></th>\n      <th></th>\n      <th></th>\n      <th></th>\n    </tr>\n  </thead>\n  <tbody>\n    <tr>\n      <th>LciBLgh8y</th>\n      <td>1001456473</td>\n      <td>LciBLgh8y</td>\n      <td>None</td>\n      <td>#TaylorSwift[超话]#想问一下红皇戒指怎么看是美版还是中版的啊，以及开箱需要担心...</td>\n      <td>NaN</td>\n      <td>2022-01-24</td>\n      <td>0</td>\n      <td>0</td>\n    </tr>\n    <tr>\n      <th>LjZFHuo4l</th>\n      <td>1003816574</td>\n      <td>LjZFHuo4l</td>\n      <td>None</td>\n      <td>【顺丰航空为吉林急运近30万支病毒采样管】3月11日凌晨，为快速响应长春市疫情防控指挥部的防...</td>\n      <td>NaN</td>\n      <td>2022-03-16</td>\n      <td>0</td>\n      <td>0</td>\n    </tr>\n    <tr>\n      <th>Lo4POe9Hj</th>\n      <td>1003816574</td>\n      <td>Lo4POe9Hj</td>\n      <td>None</td>\n      <td>#飞行安全# 4月11日，海口美兰机场负压发热隔离方舱正式投入使用。该方舱可实现进、出港发热...</td>\n      <td>NaN</td>\n      <td>2022-04-12</td>\n      <td>0</td>\n      <td>0</td>\n    </tr>\n    <tr>\n      <th>LA8hAFfEJ</th>\n      <td>1004906774</td>\n      <td>LA8hAFfEJ</td>\n      <td>None</td>\n      <td>学学文件总没有错吧。关于印发新型冠状病毒肺炎防控方案（第九版）的通知联防联控机制综发〔202...</td>\n      <td>山东</td>\n      <td>2022-06-30</td>\n      <td>0</td>\n      <td>0</td>\n    </tr>\n    <tr>\n      <th>Lbbu1nWWF</th>\n      <td>1004906774</td>\n      <td>Lbbu1nWWF</td>\n      <td>None</td>\n      <td>在有人刻意传播病毒的案件发生后，首选鼻咽拭子风险极大，应改为首选唾液或痰液。不戴口罩时呼出的...</td>\n      <td>NaN</td>\n      <td>2022-01-17</td>\n      <td>0</td>\n      <td>0</td>\n    </tr>\n    <tr>\n      <th>...</th>\n      <td>...</td>\n      <td>...</td>\n      <td>...</td>\n      <td>...</td>\n      <td>...</td>\n      <td>...</td>\n      <td>...</td>\n      <td>...</td>\n    </tr>\n    <tr>\n      <th>MbLzL7WSJ</th>\n      <td>7797005234</td>\n      <td>MbLzL7WSJ</td>\n      <td>None</td>\n      <td>前面的老兄排队核酸也不忘吞云吐雾，老🐱马上自觉地和他保持三米以上距离。毕竟，论危害性，尼古丁...</td>\n      <td>云南</td>\n      <td>2022-10-24</td>\n      <td>0</td>\n      <td>0</td>\n    </tr>\n    <tr>\n      <th>McBqJaoVC</th>\n      <td>7797020453</td>\n      <td>McBqJaoVC</td>\n      <td>None</td>\n      <td>我真心希望，自己早一点儿感染新冠病毒。防杠声明：一、我将、也建议其他人遵守防疫规定。二、我不...</td>\n      <td>北京</td>\n      <td>2022-10-29</td>\n      <td>0</td>\n      <td>0</td>\n    </tr>\n    <tr>\n      <th>McShODZTE</th>\n      <td>7797278674</td>\n      <td>McShODZTE</td>\n      <td>None</td>\n      <td>一些很矛盾的防疫理念：地铁站安检查液体我不反对，关键是每次都拿完别人的水再拿走我的水，有考虑...</td>\n      <td>江苏</td>\n      <td>2022-10-31</td>\n      <td>0</td>\n      <td>0</td>\n    </tr>\n    <tr>\n      <th>Mcn4PcGSv</th>\n      <td>7797400308</td>\n      <td>Mcn4PcGSv</td>\n      <td>None</td>\n      <td>每天都在期盼自己得现在的新冠获得最好的免疫…然后感染了我自己躲起来一周自愈省得传染给别人麻烦...</td>\n      <td>江苏</td>\n      <td>2022-10-28</td>\n      <td>0</td>\n      <td>0</td>\n    </tr>\n    <tr>\n      <th>McjHu05HM</th>\n      <td>7797454396</td>\n      <td>McjHu05HM</td>\n      <td>None</td>\n      <td>疫情就像一个大感冒 因为感冒死的人只能说活该 ​​​</td>\n      <td>江苏</td>\n      <td>2022-10-28</td>\n      <td>0</td>\n      <td>0</td>\n    </tr>\n  </tbody>\n</table>\n<p>48845 rows × 8 columns</p>\n</div>"
     },
     "execution_count": 61,
     "metadata": {},
     "output_type": "execute_result"
    }
   ],
   "source": [
    "#设置weibo_id为index\n",
    "fatal_data.set_index(keys=\"微博_id\", drop=False, inplace= True)\n",
    "fatal_data"
   ],
   "metadata": {
    "collapsed": false
   }
  },
  {
   "cell_type": "code",
   "execution_count": 62,
   "outputs": [
    {
     "name": "stdout",
     "output_type": "stream",
     "text": [
      "LjFDTfLHk\n",
      "Lp7RnhCye\n",
      "LrCCSvMCu\n"
     ]
    }
   ],
   "source": [
    "#赋值\n",
    "for i in range(len(label_list)):\n",
    "    weibo_id = label_id[i]\n",
    "    if weibo_id in fatal_data.index.values:\n",
    "        fatal_data.loc[weibo_id,'label'] = int (label_list[i])\n",
    "    else:\n",
    "        print(weibo_id)\n",
    "    # print(fatal_data.loc[weibo_id,'label'])"
   ],
   "metadata": {
    "collapsed": false
   }
  },
  {
   "cell_type": "code",
   "execution_count": 65,
   "outputs": [],
   "source": [
    "fatal_data.to_csv(save_path, index=False)"
   ],
   "metadata": {
    "collapsed": false
   }
  },
  {
   "cell_type": "code",
   "execution_count": 64,
   "outputs": [
    {
     "data": {
      "text/plain": "8512"
     },
     "execution_count": 64,
     "metadata": {},
     "output_type": "execute_result"
    }
   ],
   "source": [
    "#有三个不在annotated_posts.csv中\n",
    "count = 0\n",
    "for temp in fatal_data['label']:\n",
    "    if temp is not None:\n",
    "        count+= 1\n",
    "count"
   ],
   "metadata": {
    "collapsed": false
   }
  },
  {
   "cell_type": "code",
   "execution_count": 67,
   "outputs": [
    {
     "data": {
      "text/plain": "              user_id      微博_id label  \\\n微博_id                                    \nLciBLgh8y  1001456473  LciBLgh8y     2   \nLjZFHuo4l  1003816574  LjZFHuo4l     2   \nLo4POe9Hj  1003816574  Lo4POe9Hj     2   \nLA8hAFfEJ  1004906774  LA8hAFfEJ  None   \nLbbu1nWWF  1004906774  Lbbu1nWWF  None   \n...               ...        ...   ...   \nMbLzL7WSJ  7797005234  MbLzL7WSJ     2   \nMcBqJaoVC  7797020453  McBqJaoVC     2   \nMcShODZTE  7797278674  McShODZTE     2   \nMcn4PcGSv  7797400308  Mcn4PcGSv     1   \nMcjHu05HM  7797454396  McjHu05HM     1   \n\n                                                        微博内容 微博位置        发布时间  \\\n微博_id                                                                           \nLciBLgh8y  #TaylorSwift[超话]#想问一下红皇戒指怎么看是美版还是中版的啊，以及开箱需要担心...  NaN  2022-01-24   \nLjZFHuo4l  【顺丰航空为吉林急运近30万支病毒采样管】3月11日凌晨，为快速响应长春市疫情防控指挥部的防...  NaN  2022-03-16   \nLo4POe9Hj  #飞行安全# 4月11日，海口美兰机场负压发热隔离方舱正式投入使用。该方舱可实现进、出港发热...  NaN  2022-04-12   \nLA8hAFfEJ  学学文件总没有错吧。关于印发新型冠状病毒肺炎防控方案（第九版）的通知联防联控机制综发〔202...   山东  2022-06-30   \nLbbu1nWWF  在有人刻意传播病毒的案件发生后，首选鼻咽拭子风险极大，应改为首选唾液或痰液。不戴口罩时呼出的...  NaN  2022-01-17   \n...                                                      ...  ...         ...   \nMbLzL7WSJ  前面的老兄排队核酸也不忘吞云吐雾，老🐱马上自觉地和他保持三米以上距离。毕竟，论危害性，尼古丁...   云南  2022-10-24   \nMcBqJaoVC  我真心希望，自己早一点儿感染新冠病毒。防杠声明：一、我将、也建议其他人遵守防疫规定。二、我不...   北京  2022-10-29   \nMcShODZTE  一些很矛盾的防疫理念：地铁站安检查液体我不反对，关键是每次都拿完别人的水再拿走我的水，有考虑...   江苏  2022-10-31   \nMcn4PcGSv  每天都在期盼自己得现在的新冠获得最好的免疫…然后感染了我自己躲起来一周自愈省得传染给别人麻烦...   江苏  2022-10-28   \nMcjHu05HM                         疫情就像一个大感冒 因为感冒死的人只能说活该 ​​​   江苏  2022-10-28   \n\n           noise_pop  noise_confuse  \n微博_id                                \nLciBLgh8y          0              0  \nLjZFHuo4l          0              0  \nLo4POe9Hj          0              0  \nLA8hAFfEJ          0              0  \nLbbu1nWWF          0              0  \n...              ...            ...  \nMbLzL7WSJ          0              0  \nMcBqJaoVC          0              0  \nMcShODZTE          0              0  \nMcn4PcGSv          0              0  \nMcjHu05HM          0              0  \n\n[48845 rows x 8 columns]",
      "text/html": "<div>\n<style scoped>\n    .dataframe tbody tr th:only-of-type {\n        vertical-align: middle;\n    }\n\n    .dataframe tbody tr th {\n        vertical-align: top;\n    }\n\n    .dataframe thead th {\n        text-align: right;\n    }\n</style>\n<table border=\"1\" class=\"dataframe\">\n  <thead>\n    <tr style=\"text-align: right;\">\n      <th></th>\n      <th>user_id</th>\n      <th>微博_id</th>\n      <th>label</th>\n      <th>微博内容</th>\n      <th>微博位置</th>\n      <th>发布时间</th>\n      <th>noise_pop</th>\n      <th>noise_confuse</th>\n    </tr>\n    <tr>\n      <th>微博_id</th>\n      <th></th>\n      <th></th>\n      <th></th>\n      <th></th>\n      <th></th>\n      <th></th>\n      <th></th>\n      <th></th>\n    </tr>\n  </thead>\n  <tbody>\n    <tr>\n      <th>LciBLgh8y</th>\n      <td>1001456473</td>\n      <td>LciBLgh8y</td>\n      <td>2</td>\n      <td>#TaylorSwift[超话]#想问一下红皇戒指怎么看是美版还是中版的啊，以及开箱需要担心...</td>\n      <td>NaN</td>\n      <td>2022-01-24</td>\n      <td>0</td>\n      <td>0</td>\n    </tr>\n    <tr>\n      <th>LjZFHuo4l</th>\n      <td>1003816574</td>\n      <td>LjZFHuo4l</td>\n      <td>2</td>\n      <td>【顺丰航空为吉林急运近30万支病毒采样管】3月11日凌晨，为快速响应长春市疫情防控指挥部的防...</td>\n      <td>NaN</td>\n      <td>2022-03-16</td>\n      <td>0</td>\n      <td>0</td>\n    </tr>\n    <tr>\n      <th>Lo4POe9Hj</th>\n      <td>1003816574</td>\n      <td>Lo4POe9Hj</td>\n      <td>2</td>\n      <td>#飞行安全# 4月11日，海口美兰机场负压发热隔离方舱正式投入使用。该方舱可实现进、出港发热...</td>\n      <td>NaN</td>\n      <td>2022-04-12</td>\n      <td>0</td>\n      <td>0</td>\n    </tr>\n    <tr>\n      <th>LA8hAFfEJ</th>\n      <td>1004906774</td>\n      <td>LA8hAFfEJ</td>\n      <td>None</td>\n      <td>学学文件总没有错吧。关于印发新型冠状病毒肺炎防控方案（第九版）的通知联防联控机制综发〔202...</td>\n      <td>山东</td>\n      <td>2022-06-30</td>\n      <td>0</td>\n      <td>0</td>\n    </tr>\n    <tr>\n      <th>Lbbu1nWWF</th>\n      <td>1004906774</td>\n      <td>Lbbu1nWWF</td>\n      <td>None</td>\n      <td>在有人刻意传播病毒的案件发生后，首选鼻咽拭子风险极大，应改为首选唾液或痰液。不戴口罩时呼出的...</td>\n      <td>NaN</td>\n      <td>2022-01-17</td>\n      <td>0</td>\n      <td>0</td>\n    </tr>\n    <tr>\n      <th>...</th>\n      <td>...</td>\n      <td>...</td>\n      <td>...</td>\n      <td>...</td>\n      <td>...</td>\n      <td>...</td>\n      <td>...</td>\n      <td>...</td>\n    </tr>\n    <tr>\n      <th>MbLzL7WSJ</th>\n      <td>7797005234</td>\n      <td>MbLzL7WSJ</td>\n      <td>2</td>\n      <td>前面的老兄排队核酸也不忘吞云吐雾，老🐱马上自觉地和他保持三米以上距离。毕竟，论危害性，尼古丁...</td>\n      <td>云南</td>\n      <td>2022-10-24</td>\n      <td>0</td>\n      <td>0</td>\n    </tr>\n    <tr>\n      <th>McBqJaoVC</th>\n      <td>7797020453</td>\n      <td>McBqJaoVC</td>\n      <td>2</td>\n      <td>我真心希望，自己早一点儿感染新冠病毒。防杠声明：一、我将、也建议其他人遵守防疫规定。二、我不...</td>\n      <td>北京</td>\n      <td>2022-10-29</td>\n      <td>0</td>\n      <td>0</td>\n    </tr>\n    <tr>\n      <th>McShODZTE</th>\n      <td>7797278674</td>\n      <td>McShODZTE</td>\n      <td>2</td>\n      <td>一些很矛盾的防疫理念：地铁站安检查液体我不反对，关键是每次都拿完别人的水再拿走我的水，有考虑...</td>\n      <td>江苏</td>\n      <td>2022-10-31</td>\n      <td>0</td>\n      <td>0</td>\n    </tr>\n    <tr>\n      <th>Mcn4PcGSv</th>\n      <td>7797400308</td>\n      <td>Mcn4PcGSv</td>\n      <td>1</td>\n      <td>每天都在期盼自己得现在的新冠获得最好的免疫…然后感染了我自己躲起来一周自愈省得传染给别人麻烦...</td>\n      <td>江苏</td>\n      <td>2022-10-28</td>\n      <td>0</td>\n      <td>0</td>\n    </tr>\n    <tr>\n      <th>McjHu05HM</th>\n      <td>7797454396</td>\n      <td>McjHu05HM</td>\n      <td>1</td>\n      <td>疫情就像一个大感冒 因为感冒死的人只能说活该 ​​​</td>\n      <td>江苏</td>\n      <td>2022-10-28</td>\n      <td>0</td>\n      <td>0</td>\n    </tr>\n  </tbody>\n</table>\n<p>48845 rows × 8 columns</p>\n</div>"
     },
     "execution_count": 67,
     "metadata": {},
     "output_type": "execute_result"
    }
   ],
   "source": [
    "fatal_data"
   ],
   "metadata": {
    "collapsed": false
   }
  },
  {
   "cell_type": "code",
   "execution_count": null,
   "outputs": [],
   "source": [],
   "metadata": {
    "collapsed": false
   }
  }
 ],
 "metadata": {
  "kernelspec": {
   "display_name": "Python 3",
   "language": "python",
   "name": "python3"
  },
  "language_info": {
   "codemirror_mode": {
    "name": "ipython",
    "version": 2
   },
   "file_extension": ".py",
   "mimetype": "text/x-python",
   "name": "python",
   "nbconvert_exporter": "python",
   "pygments_lexer": "ipython2",
   "version": "2.7.6"
  }
 },
 "nbformat": 4,
 "nbformat_minor": 0
}
